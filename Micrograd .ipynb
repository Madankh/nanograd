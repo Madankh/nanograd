{
 "cells": [
  {
   "cell_type": "code",
   "execution_count": 28,
   "id": "6fe694be",
   "metadata": {},
   "outputs": [],
   "source": [
    "import math \n",
    "import numpy as np\n",
    "import matplotlib.pyplot as plt\n",
    "%matplotlib inline"
   ]
  },
  {
   "cell_type": "code",
   "execution_count": 29,
   "id": "eb0c5e3d",
   "metadata": {},
   "outputs": [],
   "source": [
    "def f(x):\n",
    "    return 3*x**2 - 4*x+5"
   ]
  },
  {
   "cell_type": "code",
   "execution_count": 30,
   "id": "7432e421",
   "metadata": {},
   "outputs": [
    {
     "data": {
      "text/plain": [
       "20"
      ]
     },
     "execution_count": 30,
     "metadata": {},
     "output_type": "execute_result"
    }
   ],
   "source": [
    "f(3)"
   ]
  },
  {
   "cell_type": "code",
   "execution_count": 31,
   "id": "86c4c0a5",
   "metadata": {},
   "outputs": [],
   "source": [
    "xs = np.arange(-5,5 , 0.25)\n",
    "ys = f(xs)"
   ]
  },
  {
   "cell_type": "code",
   "execution_count": 32,
   "id": "dccd67b4",
   "metadata": {},
   "outputs": [
    {
     "data": {
      "text/plain": [
       "array([100.    ,  91.6875,  83.75  ,  76.1875,  69.    ,  62.1875,\n",
       "        55.75  ,  49.6875,  44.    ,  38.6875,  33.75  ,  29.1875,\n",
       "        25.    ,  21.1875,  17.75  ,  14.6875,  12.    ,   9.6875,\n",
       "         7.75  ,   6.1875,   5.    ,   4.1875,   3.75  ,   3.6875,\n",
       "         4.    ,   4.6875,   5.75  ,   7.1875,   9.    ,  11.1875,\n",
       "        13.75  ,  16.6875,  20.    ,  23.6875,  27.75  ,  32.1875,\n",
       "        37.    ,  42.1875,  47.75  ,  53.6875])"
      ]
     },
     "execution_count": 32,
     "metadata": {},
     "output_type": "execute_result"
    }
   ],
   "source": [
    "ys"
   ]
  },
  {
   "cell_type": "code",
   "execution_count": 33,
   "id": "c87057c3",
   "metadata": {},
   "outputs": [
    {
     "data": {
      "text/plain": [
       "[<matplotlib.lines.Line2D at 0x19e27810a30>]"
      ]
     },
     "execution_count": 33,
     "metadata": {},
     "output_type": "execute_result"
    },
    {
     "data": {
      "image/png": "[encoded data removed]",
      "text/plain": [
       "<Figure size 640x480 with 1 Axes>"
      ]
     },
     "metadata": {},
     "output_type": "display_data"
    }
   ],
   "source": [
    "plt.plot(ys)"
   ]
  },
  {
   "cell_type": "code",
   "execution_count": 34,
   "id": "efac4fe9",
   "metadata": {},
   "outputs": [
    {
     "data": {
      "text/plain": [
       "2.999378523327323e-06"
      ]
     },
     "execution_count": 34,
     "metadata": {},
     "output_type": "execute_result"
    }
   ],
   "source": [
    "h = 0.000001\n",
    "x = 2/3\n",
    "(f(x+h) - f(x))/h"
   ]
  },
  {
   "cell_type": "code",
   "execution_count": 35,
   "id": "0c9b839c",
   "metadata": {},
   "outputs": [
    {
     "name": "stdout",
     "output_type": "stream",
     "text": [
      "4.0\n"
     ]
    }
   ],
   "source": [
    "# let get more complex\n",
    "a = 2.0\n",
    "b = -3.0\n",
    "c = 10.0\n",
    "d = a*b+c\n",
    "print(d)"
   ]
  },
  {
   "cell_type": "code",
   "execution_count": 36,
   "id": "372b4dfd",
   "metadata": {},
   "outputs": [
    {
     "name": "stdout",
     "output_type": "stream",
     "text": [
      "d1 4.0\n",
      "d2 4.0001\n",
      "Slope 0.9999999999976694\n"
     ]
    }
   ],
   "source": [
    "h = 0.0001\n",
    "#input \n",
    "a = 2.0\n",
    "b = -3.0\n",
    "c = 10.0\n",
    "d1 = a*b + c\n",
    "c+=h\n",
    "d2= a*b+c\n",
    "print('d1' , d1)\n",
    "print('d2' , d2)\n",
    "print(\"Slope\" , (d2-d1)/h)"
   ]
  },
  {
   "cell_type": "code",
   "execution_count": 37,
   "id": "03924e8d",
   "metadata": {},
   "outputs": [],
   "source": [
    "class Value:\n",
    "    def __init__(self, data , _children=(), _op='' , label=''):\n",
    "        self.data = data;\n",
    "        self._prev = set(_children)\n",
    "        self.grad = 0.0\n",
    "        self._backward = lambda : None\n",
    "        self._op = _op\n",
    "        self.label = label\n",
    "        \n",
    "    def __repr__(self):\n",
    "        return f\"Value(data = {self.data})\"\n",
    "    \n",
    "    def __add__(self, other):\n",
    "        other = other if isinstance(other , Value) else Value(other)\n",
    "        out = Value(self.data + other.data , (self , other), '+')\n",
    "        def _backward():\n",
    "            self.grad += 1.0 * out.grad\n",
    "            other.grad += 1.0 * out.grad\n",
    "        out._backward = _backward    \n",
    "        return out\n",
    "    \n",
    "    def __mul__(self, other):\n",
    "        other = other if isinstance(other , Value) else Value(other)\n",
    "        out = Value(self.data * other.data , (self , other), '*')\n",
    "        \n",
    "        def _backward():\n",
    "            self.grad += other.data * out.grad\n",
    "            print(other.data)\n",
    "            other.grad += self.data * out.grad\n",
    "        out._backward = _backward   \n",
    "        return out\n",
    "    \n",
    "    def __rmul__(self, other): # other * self\n",
    "        return self*other\n",
    "    \n",
    "    def __truediv__(self, other): #self/other\n",
    "        return self * other.data**-1\n",
    "    \n",
    "    def __pow__(self , other):\n",
    "        assert isinstance(other.data,(int, float)),\"only supporting int/float power for now\"\n",
    "        out = Value(self.data ** other.data , (self,) , f'**{other.data}')\n",
    "                    \n",
    "        def _backward():\n",
    "            self.grad += other.data*(self.data)**(other.data-1)* out.grad\n",
    "        out._backward = _backward   \n",
    "        return out\n",
    "                    \n",
    "        \n",
    "    def exp(self):\n",
    "        x = self.data\n",
    "        out = Value(math.exp(x), (self,), 'exp')\n",
    "        \n",
    "        def _backward():\n",
    "            self.grad += out.data*out.grad\n",
    "        out._backward = _backward   \n",
    "        return out\n",
    "    \n",
    "    \n",
    "    def tanh(self):\n",
    "        x = self.data;\n",
    "        t = (math.exp(2*x) - 1)/(math.exp(2*x) + 1)\n",
    "        print(t)\n",
    "        out = Value(t , (self, ), \"tanh\")\n",
    "        \n",
    "        def _backward():\n",
    "            self.grad += (1-t**2) * out.grad\n",
    "        out._backward = _backward   \n",
    "\n",
    "        return out\n",
    "    \n",
    "    def backward(self):\n",
    "        topo = []\n",
    "        visited = set()\n",
    "        def build_topo(v):\n",
    "            if v not in visited:\n",
    "                visited.add(v)\n",
    "                for child in v._prev:\n",
    "                    build_topo(child)\n",
    "                topo.append(v)\n",
    "            \n",
    "        build_topo(self)\n",
    "        self.grad = 1.0\n",
    "        \n",
    "        for node in reversed(topo):\n",
    "            node._backward()\n",
    "    "
   ]
  },
  {
   "cell_type": "code",
   "execution_count": 38,
   "id": "26872e9f",
   "metadata": {},
   "outputs": [
    {
     "data": {
      "text/plain": [
       "Value(data = 16.0)"
      ]
     },
     "execution_count": 38,
     "metadata": {},
     "output_type": "execute_result"
    }
   ],
   "source": [
    "a = Value(2.0)\n",
    "b = Value(4.0)\n",
    "b**a"
   ]
  },
  {
   "cell_type": "code",
   "execution_count": 39,
   "id": "45db64c7",
   "metadata": {},
   "outputs": [],
   "source": [
    "from graphviz import Digraph\n",
    "\n",
    "def trace(root):\n",
    "    #build a set of all nodes and edges in a  graph\n",
    "    nodes, edges =  set(), set()\n",
    "    def build(v):\n",
    "        if v not in nodes:\n",
    "            nodes.add(v)\n",
    "            for child in v._prev:\n",
    "                edges.add((child, v))\n",
    "                build(child)\n",
    "    build (root)\n",
    "    return nodes , edges\n",
    "\n",
    "def draw_dot(root):\n",
    "    dot = Digraph(format='svg', graph_attr={'rankdir':'LR'}) # LR = left to right\n",
    "    \n",
    "    nodes, edges = trace(root)\n",
    "    for n in nodes:\n",
    "        uid = str(id(n))\n",
    "        # for any value in the graph create a rectangular (\"record\") node for it\n",
    "        dot.node(name = uid , label = \"{%s | data %.4f ||  grad %.4f}\" % (n.label,n.data,n.grad), shape='record')\n",
    "        if n._op:\n",
    "            dot.node(name = uid + n._op, label = n._op)\n",
    "            dot.edge(uid + n._op, uid)\n",
    "                 \n",
    "    for n1 , n2 in edges:\n",
    "        dot.edge(str(id(n1)), str(id(n2)) + n2._op)\n",
    "    return dot         "
   ]
  },
  {
   "cell_type": "code",
   "execution_count": 13,
   "id": "2454544e",
   "metadata": {},
   "outputs": [],
   "source": [
    "# dd/dc = 1.0\n",
    "# d = c+e\n",
    "# (f(x+h) - f(x))/h\n",
    "# ((c+h +e) - (c+e))/h\n",
    "# (c+h+e-c-e)/h\n",
    "# h/h = 1.0\n",
    "\n",
    "# dd/de = 1.0\n",
    "# d = c+e\n",
    "\n",
    "# want :\n",
    "# dL/dc = (dL/dd)*(dd/dc)\n",
    "\n",
    "# KNOW:\n",
    "# dL/dd\n",
    "# dd/dc\n",
    "\n",
    "#dL/de = -2.0\n",
    "#dl/da = (dL/de)*(de/da)"
   ]
  },
  {
   "cell_type": "code",
   "execution_count": 14,
   "id": "2e9ce32c",
   "metadata": {},
   "outputs": [
    {
     "name": "stdout",
     "output_type": "stream",
     "text": [
      "Value(data = 2.0)\n",
      "0.0\n"
     ]
    }
   ],
   "source": [
    "def lol():\n",
    "    h=0.001\n",
    "    a = Value(2.0 , label=\"a\")\n",
    "    a.exp()\n",
    "    b = Value(-3.0 , label=\"b\")\n",
    "    c = Value(10.0 , label=\"c\")\n",
    "    print(a)\n",
    "    e=a*b; e.label=\"e\"\n",
    "    d = e+c; d.label=\"d\"\n",
    "    f = Value(-2.0 , label='f')\n",
    "    L = d*f\n",
    "    L1=L.data\n",
    "    \n",
    "    a = Value(2.0 , label=\"a\")\n",
    "    b = Value(-3.0 , label=\"b\")\n",
    "    c = Value(10.0 , label=\"c\")\n",
    "    e=a*b; e.label=\"e\"\n",
    "    d = e+c; d.label=\"d\"\n",
    "    f = Value(-2.0 , label='f')\n",
    "    L = d*f ; L.label='L'\n",
    "    L2=L.data\n",
    "    \n",
    "    print((L2-L1)/h)\n",
    "lol()    \n",
    "    "
   ]
  },
  {
   "cell_type": "code",
   "execution_count": 15,
   "id": "a8053b46",
   "metadata": {},
   "outputs": [
    {
     "data": {
      "image/png": "[encoded data removed]",
      "text/plain": [
       "<Figure size 640x480 with 1 Axes>"
      ]
     },
     "metadata": {},
     "output_type": "display_data"
    }
   ],
   "source": [
    "plt.plot(np.arange(-5,5,0.2) , np.tanh(np.arange(-5,5,0.2))); plt.grid()"
   ]
  },
  {
   "cell_type": "code",
   "execution_count": 16,
   "id": "334704a1",
   "metadata": {},
   "outputs": [
    {
     "name": "stdout",
     "output_type": "stream",
     "text": [
      "0.7071067811865476\n"
     ]
    }
   ],
   "source": [
    "# Input x1 x2\n",
    "x1 = Value(2.0 , label=\"x1\")\n",
    "x2 = Value(0.0 , label=\"x2\")\n",
    "\n",
    "# Weight w1 , w2\n",
    "w1 = Value(-3.0 , label=\"w1\")\n",
    "w2 = Value(1.0 , label='w2')\n",
    "\n",
    "# Bias b\n",
    "b = Value(6.8813735870195431 , label='b')\n",
    "\n",
    "x1w1 = x1*w1; x1w1.label='x1*w1'\n",
    "x2w2 = x2*w2; x2w2.label='x2*w2'\n",
    "\n",
    "x1w1x2w2 = x1w1 + x2w2; x1w1x2w2.label='x1*w1 + x2w2'\n",
    "\n",
    "n = x1w1x2w2 + b; n.label='n'\n",
    "o = n.tanh(); o.label='o'\n"
   ]
  },
  {
   "cell_type": "code",
   "execution_count": 42,
   "id": "304e2e7c",
   "metadata": {},
   "outputs": [
    {
     "data": {
      "image/svg+xml": [
       "<?xml version=\"1.0\" encoding=\"UTF-8\" standalone=\"no\"?>\n",
       "<!DOCTYPE svg PUBLIC \"-//W3C//DTD SVG 1.1//EN\"\n",
       " \"http://www.w3.org/Graphics/SVG/1.1/DTD/svg11.dtd\">\n",
       "<!-- Generated by graphviz version 8.1.0 (20230707.0739)\n",
       " -->\n",
       "<!-- Pages: 1 -->\n",
       "<svg width=\"1674pt\" height=\"210pt\"\n",
       " viewBox=\"0.00 0.00 1673.50 210.00\" xmlns=\"http://www.w3.org/2000/svg\" xmlns:xlink=\"http://www.w3.org/1999/xlink\">\n",
       "<g id=\"graph0\" class=\"graph\" transform=\"scale(1 1) rotate(0) translate(4 206)\">\n",
       "<polygon fill=\"white\" stroke=\"none\" points=\"-4,4 -4,-206 1669.5,-206 1669.5,4 -4,4\"/>\n",
       "<!-- 1778779344416 -->\n",
       "<g id=\"node1\" class=\"node\">\n",
       "<title>1778779344416</title>\n",
       "<polygon fill=\"none\" stroke=\"black\" points=\"1.5,-165.5 1.5,-201.5 224.5,-201.5 224.5,-165.5 1.5,-165.5\"/>\n",
       "<text text-anchor=\"middle\" x=\"16.25\" y=\"-178.2\" font-family=\"Times New Roman,serif\" font-size=\"14.00\">x1</text>\n",
       "<polyline fill=\"none\" stroke=\"black\" points=\"31,-165.75 31,-201.5\"/>\n",
       "<text text-anchor=\"middle\" x=\"71.25\" y=\"-178.2\" font-family=\"Times New Roman,serif\" font-size=\"14.00\">data 2.0000</text>\n",
       "<polyline fill=\"none\" stroke=\"black\" points=\"111.5,-165.75 111.5,-201.5\"/>\n",
       "<text text-anchor=\"middle\" x=\"121.38\" y=\"-178.2\" font-family=\"Times New Roman,serif\" font-size=\"14.00\"> </text>\n",
       "<polyline fill=\"none\" stroke=\"black\" points=\"131.25,-165.75 131.25,-201.5\"/>\n",
       "<text text-anchor=\"middle\" x=\"177.88\" y=\"-178.2\" font-family=\"Times New Roman,serif\" font-size=\"14.00\">grad &#45;21.0000</text>\n",
       "</g>\n",
       "<!-- 1778780560832* -->\n",
       "<g id=\"node14\" class=\"node\">\n",
       "<title>1778780560832*</title>\n",
       "<ellipse fill=\"none\" stroke=\"black\" cx=\"289\" cy=\"-128.5\" rx=\"27\" ry=\"18\"/>\n",
       "<text text-anchor=\"middle\" x=\"289\" y=\"-123.08\" font-family=\"Times New Roman,serif\" font-size=\"14.00\">*</text>\n",
       "</g>\n",
       "<!-- 1778779344416&#45;&gt;1778780560832* -->\n",
       "<g id=\"edge6\" class=\"edge\">\n",
       "<title>1778779344416&#45;&gt;1778780560832*</title>\n",
       "<path fill=\"none\" stroke=\"black\" d=\"M196.17,-165.57C206.3,-162.81 216.45,-159.78 226,-156.5 236.36,-152.95 247.36,-148.29 257.17,-143.8\"/>\n",
       "<polygon fill=\"black\" stroke=\"black\" points=\"258.32,-146.65 265.88,-139.23 255.34,-140.32 258.32,-146.65\"/>\n",
       "</g>\n",
       "<!-- 1778778950864 -->\n",
       "<g id=\"node2\" class=\"node\">\n",
       "<title>1778778950864</title>\n",
       "<polygon fill=\"none\" stroke=\"black\" points=\"757.25,-27.5 757.25,-63.5 963,-63.5 963,-27.5 757.25,-27.5\"/>\n",
       "<text text-anchor=\"middle\" x=\"769\" y=\"-40.2\" font-family=\"Times New Roman,serif\" font-size=\"14.00\">b</text>\n",
       "<polyline fill=\"none\" stroke=\"black\" points=\"780.75,-27.75 780.75,-63.5\"/>\n",
       "<text text-anchor=\"middle\" x=\"821\" y=\"-40.2\" font-family=\"Times New Roman,serif\" font-size=\"14.00\">data 6.8814</text>\n",
       "<polyline fill=\"none\" stroke=\"black\" points=\"861.25,-27.75 861.25,-63.5\"/>\n",
       "<text text-anchor=\"middle\" x=\"871.12\" y=\"-40.2\" font-family=\"Times New Roman,serif\" font-size=\"14.00\"> </text>\n",
       "<polyline fill=\"none\" stroke=\"black\" points=\"881,-27.75 881,-63.5\"/>\n",
       "<text text-anchor=\"middle\" x=\"922\" y=\"-40.2\" font-family=\"Times New Roman,serif\" font-size=\"14.00\">grad 1.5000</text>\n",
       "</g>\n",
       "<!-- 1778779425616+ -->\n",
       "<g id=\"node9\" class=\"node\">\n",
       "<title>1778779425616+</title>\n",
       "<ellipse fill=\"none\" stroke=\"black\" cx=\"1065.75\" cy=\"-72.5\" rx=\"27\" ry=\"18\"/>\n",
       "<text text-anchor=\"middle\" x=\"1065.75\" y=\"-67.08\" font-family=\"Times New Roman,serif\" font-size=\"14.00\">+</text>\n",
       "</g>\n",
       "<!-- 1778778950864&#45;&gt;1778779425616+ -->\n",
       "<g id=\"edge8\" class=\"edge\">\n",
       "<title>1778778950864&#45;&gt;1778779425616+</title>\n",
       "<path fill=\"none\" stroke=\"black\" d=\"M962.94,-59C986.32,-62.1 1009.71,-65.2 1028.15,-67.65\"/>\n",
       "<polygon fill=\"black\" stroke=\"black\" points=\"1027.59,-71.24 1037.96,-69.08 1028.51,-64.3 1027.59,-71.24\"/>\n",
       "</g>\n",
       "<!-- 1778334970736 -->\n",
       "<g id=\"node3\" class=\"node\">\n",
       "<title>1778334970736</title>\n",
       "<polygon fill=\"none\" stroke=\"black\" points=\"1459.75,-54.5 1459.75,-90.5 1665.5,-90.5 1665.5,-54.5 1459.75,-54.5\"/>\n",
       "<text text-anchor=\"middle\" x=\"1471.5\" y=\"-67.2\" font-family=\"Times New Roman,serif\" font-size=\"14.00\">o</text>\n",
       "<polyline fill=\"none\" stroke=\"black\" points=\"1483.25,-54.75 1483.25,-90.5\"/>\n",
       "<text text-anchor=\"middle\" x=\"1523.5\" y=\"-67.2\" font-family=\"Times New Roman,serif\" font-size=\"14.00\">data 0.7071</text>\n",
       "<polyline fill=\"none\" stroke=\"black\" points=\"1563.75,-54.75 1563.75,-90.5\"/>\n",
       "<text text-anchor=\"middle\" x=\"1573.62\" y=\"-67.2\" font-family=\"Times New Roman,serif\" font-size=\"14.00\"> </text>\n",
       "<polyline fill=\"none\" stroke=\"black\" points=\"1583.5,-54.75 1583.5,-90.5\"/>\n",
       "<text text-anchor=\"middle\" x=\"1624.5\" y=\"-67.2\" font-family=\"Times New Roman,serif\" font-size=\"14.00\">grad 1.0000</text>\n",
       "</g>\n",
       "<!-- 1778334970736tanh -->\n",
       "<g id=\"node4\" class=\"node\">\n",
       "<title>1778334970736tanh</title>\n",
       "<ellipse fill=\"none\" stroke=\"black\" cx=\"1396.75\" cy=\"-72.5\" rx=\"27\" ry=\"18\"/>\n",
       "<text text-anchor=\"middle\" x=\"1396.75\" y=\"-67.08\" font-family=\"Times New Roman,serif\" font-size=\"14.00\">tanh</text>\n",
       "</g>\n",
       "<!-- 1778334970736tanh&#45;&gt;1778334970736 -->\n",
       "<g id=\"edge1\" class=\"edge\">\n",
       "<title>1778334970736tanh&#45;&gt;1778334970736</title>\n",
       "<path fill=\"none\" stroke=\"black\" d=\"M1424.08,-72.5C1431.43,-72.5 1439.91,-72.5 1448.97,-72.5\"/>\n",
       "<polygon fill=\"black\" stroke=\"black\" points=\"1448.85,-76 1458.85,-72.5 1448.85,-69 1448.85,-76\"/>\n",
       "</g>\n",
       "<!-- 1778779343120 -->\n",
       "<g id=\"node5\" class=\"node\">\n",
       "<title>1778779343120</title>\n",
       "<polygon fill=\"none\" stroke=\"black\" points=\"0,-110.5 0,-146.5 226,-146.5 226,-110.5 0,-110.5\"/>\n",
       "<text text-anchor=\"middle\" x=\"16.25\" y=\"-123.2\" font-family=\"Times New Roman,serif\" font-size=\"14.00\">w1</text>\n",
       "<polyline fill=\"none\" stroke=\"black\" points=\"32.5,-110.75 32.5,-146.5\"/>\n",
       "<text text-anchor=\"middle\" x=\"75\" y=\"-123.2\" font-family=\"Times New Roman,serif\" font-size=\"14.00\">data &#45;3.0000</text>\n",
       "<polyline fill=\"none\" stroke=\"black\" points=\"117.5,-110.75 117.5,-146.5\"/>\n",
       "<text text-anchor=\"middle\" x=\"127.38\" y=\"-123.2\" font-family=\"Times New Roman,serif\" font-size=\"14.00\"> </text>\n",
       "<polyline fill=\"none\" stroke=\"black\" points=\"137.25,-110.75 137.25,-146.5\"/>\n",
       "<text text-anchor=\"middle\" x=\"181.62\" y=\"-123.2\" font-family=\"Times New Roman,serif\" font-size=\"14.00\">grad 14.0000</text>\n",
       "</g>\n",
       "<!-- 1778779343120&#45;&gt;1778780560832* -->\n",
       "<g id=\"edge11\" class=\"edge\">\n",
       "<title>1778779343120&#45;&gt;1778780560832*</title>\n",
       "<path fill=\"none\" stroke=\"black\" d=\"M225.67,-128.5C234.46,-128.5 242.89,-128.5 250.54,-128.5\"/>\n",
       "<polygon fill=\"black\" stroke=\"black\" points=\"250.52,-132 260.52,-128.5 250.52,-125 250.52,-132\"/>\n",
       "</g>\n",
       "<!-- 1778779425088 -->\n",
       "<g id=\"node6\" class=\"node\">\n",
       "<title>1778779425088</title>\n",
       "<polygon fill=\"none\" stroke=\"black\" points=\"354.25,-55.5 354.25,-91.5 589.25,-91.5 589.25,-55.5 354.25,-55.5\"/>\n",
       "<text text-anchor=\"middle\" x=\"380.62\" y=\"-68.2\" font-family=\"Times New Roman,serif\" font-size=\"14.00\">x2*w2</text>\n",
       "<polyline fill=\"none\" stroke=\"black\" points=\"407,-55.75 407,-91.5\"/>\n",
       "<text text-anchor=\"middle\" x=\"447.25\" y=\"-68.2\" font-family=\"Times New Roman,serif\" font-size=\"14.00\">data 0.0000</text>\n",
       "<polyline fill=\"none\" stroke=\"black\" points=\"487.5,-55.75 487.5,-91.5\"/>\n",
       "<text text-anchor=\"middle\" x=\"497.38\" y=\"-68.2\" font-family=\"Times New Roman,serif\" font-size=\"14.00\"> </text>\n",
       "<polyline fill=\"none\" stroke=\"black\" points=\"507.25,-55.75 507.25,-91.5\"/>\n",
       "<text text-anchor=\"middle\" x=\"548.25\" y=\"-68.2\" font-family=\"Times New Roman,serif\" font-size=\"14.00\">grad 2.0000</text>\n",
       "</g>\n",
       "<!-- 1778779425136+ -->\n",
       "<g id=\"node11\" class=\"node\">\n",
       "<title>1778779425136+</title>\n",
       "<ellipse fill=\"none\" stroke=\"black\" cx=\"654.5\" cy=\"-100.5\" rx=\"27\" ry=\"18\"/>\n",
       "<text text-anchor=\"middle\" x=\"654.5\" y=\"-95.08\" font-family=\"Times New Roman,serif\" font-size=\"14.00\">+</text>\n",
       "</g>\n",
       "<!-- 1778779425088&#45;&gt;1778779425136+ -->\n",
       "<g id=\"edge9\" class=\"edge\">\n",
       "<title>1778779425088&#45;&gt;1778779425136+</title>\n",
       "<path fill=\"none\" stroke=\"black\" d=\"M589.01,-90.87C598.9,-92.34 608.35,-93.76 616.8,-95.02\"/>\n",
       "<polygon fill=\"black\" stroke=\"black\" points=\"616.27,-98.63 626.68,-96.64 617.31,-91.7 616.27,-98.63\"/>\n",
       "</g>\n",
       "<!-- 1778779425088* -->\n",
       "<g id=\"node7\" class=\"node\">\n",
       "<title>1778779425088*</title>\n",
       "<ellipse fill=\"none\" stroke=\"black\" cx=\"289\" cy=\"-73.5\" rx=\"27\" ry=\"18\"/>\n",
       "<text text-anchor=\"middle\" x=\"289\" y=\"-68.08\" font-family=\"Times New Roman,serif\" font-size=\"14.00\">*</text>\n",
       "</g>\n",
       "<!-- 1778779425088*&#45;&gt;1778779425088 -->\n",
       "<g id=\"edge2\" class=\"edge\">\n",
       "<title>1778779425088*&#45;&gt;1778779425088</title>\n",
       "<path fill=\"none\" stroke=\"black\" d=\"M316.28,-73.5C324.28,-73.5 333.65,-73.5 343.76,-73.5\"/>\n",
       "<polygon fill=\"black\" stroke=\"black\" points=\"343.53,-77 353.53,-73.5 343.53,-70 343.53,-77\"/>\n",
       "</g>\n",
       "<!-- 1778779425616 -->\n",
       "<g id=\"node8\" class=\"node\">\n",
       "<title>1778779425616</title>\n",
       "<polygon fill=\"none\" stroke=\"black\" points=\"1128.75,-54.5 1128.75,-90.5 1333.75,-90.5 1333.75,-54.5 1128.75,-54.5\"/>\n",
       "<text text-anchor=\"middle\" x=\"1140.12\" y=\"-67.2\" font-family=\"Times New Roman,serif\" font-size=\"14.00\">n</text>\n",
       "<polyline fill=\"none\" stroke=\"black\" points=\"1151.5,-54.75 1151.5,-90.5\"/>\n",
       "<text text-anchor=\"middle\" x=\"1191.75\" y=\"-67.2\" font-family=\"Times New Roman,serif\" font-size=\"14.00\">data 0.8814</text>\n",
       "<polyline fill=\"none\" stroke=\"black\" points=\"1232,-54.75 1232,-90.5\"/>\n",
       "<text text-anchor=\"middle\" x=\"1241.88\" y=\"-67.2\" font-family=\"Times New Roman,serif\" font-size=\"14.00\"> </text>\n",
       "<polyline fill=\"none\" stroke=\"black\" points=\"1251.75,-54.75 1251.75,-90.5\"/>\n",
       "<text text-anchor=\"middle\" x=\"1292.75\" y=\"-67.2\" font-family=\"Times New Roman,serif\" font-size=\"14.00\">grad 1.0000</text>\n",
       "</g>\n",
       "<!-- 1778779425616&#45;&gt;1778334970736tanh -->\n",
       "<g id=\"edge7\" class=\"edge\">\n",
       "<title>1778779425616&#45;&gt;1778334970736tanh</title>\n",
       "<path fill=\"none\" stroke=\"black\" d=\"M1333.47,-72.5C1342.34,-72.5 1350.88,-72.5 1358.65,-72.5\"/>\n",
       "<polygon fill=\"black\" stroke=\"black\" points=\"1358.42,-76 1368.42,-72.5 1358.42,-69 1358.42,-76\"/>\n",
       "</g>\n",
       "<!-- 1778779425616+&#45;&gt;1778779425616 -->\n",
       "<g id=\"edge3\" class=\"edge\">\n",
       "<title>1778779425616+&#45;&gt;1778779425616</title>\n",
       "<path fill=\"none\" stroke=\"black\" d=\"M1093.02,-72.5C1100.42,-72.5 1108.96,-72.5 1118.09,-72.5\"/>\n",
       "<polygon fill=\"black\" stroke=\"black\" points=\"1118.05,-76 1128.05,-72.5 1118.05,-69 1118.05,-76\"/>\n",
       "</g>\n",
       "<!-- 1778779425136 -->\n",
       "<g id=\"node10\" class=\"node\">\n",
       "<title>1778779425136</title>\n",
       "<polygon fill=\"none\" stroke=\"black\" points=\"717.5,-82.5 717.5,-118.5 1002.75,-118.5 1002.75,-82.5 717.5,-82.5\"/>\n",
       "<text text-anchor=\"middle\" x=\"766.75\" y=\"-95.2\" font-family=\"Times New Roman,serif\" font-size=\"14.00\">x1*w1 + x2w2</text>\n",
       "<polyline fill=\"none\" stroke=\"black\" points=\"816,-82.75 816,-118.5\"/>\n",
       "<text text-anchor=\"middle\" x=\"858.5\" y=\"-95.2\" font-family=\"Times New Roman,serif\" font-size=\"14.00\">data &#45;6.0000</text>\n",
       "<polyline fill=\"none\" stroke=\"black\" points=\"901,-82.75 901,-118.5\"/>\n",
       "<text text-anchor=\"middle\" x=\"910.88\" y=\"-95.2\" font-family=\"Times New Roman,serif\" font-size=\"14.00\"> </text>\n",
       "<polyline fill=\"none\" stroke=\"black\" points=\"920.75,-82.75 920.75,-118.5\"/>\n",
       "<text text-anchor=\"middle\" x=\"961.75\" y=\"-95.2\" font-family=\"Times New Roman,serif\" font-size=\"14.00\">grad 1.5000</text>\n",
       "</g>\n",
       "<!-- 1778779425136&#45;&gt;1778779425616+ -->\n",
       "<g id=\"edge10\" class=\"edge\">\n",
       "<title>1778779425136&#45;&gt;1778779425616+</title>\n",
       "<path fill=\"none\" stroke=\"black\" d=\"M991.81,-82.53C1005.03,-80.71 1017.55,-78.99 1028.35,-77.5\"/>\n",
       "<polygon fill=\"black\" stroke=\"black\" points=\"1028.53,-80.88 1037.96,-76.05 1027.57,-73.94 1028.53,-80.88\"/>\n",
       "</g>\n",
       "<!-- 1778779425136+&#45;&gt;1778779425136 -->\n",
       "<g id=\"edge4\" class=\"edge\">\n",
       "<title>1778779425136+&#45;&gt;1778779425136</title>\n",
       "<path fill=\"none\" stroke=\"black\" d=\"M681.7,-100.5C689.04,-100.5 697.58,-100.5 706.86,-100.5\"/>\n",
       "<polygon fill=\"black\" stroke=\"black\" points=\"706.64,-104 716.64,-100.5 706.64,-97 706.64,-104\"/>\n",
       "</g>\n",
       "<!-- 1778779366832 -->\n",
       "<g id=\"node12\" class=\"node\">\n",
       "<title>1778779366832</title>\n",
       "<polygon fill=\"none\" stroke=\"black\" points=\"7.12,-55.5 7.12,-91.5 218.88,-91.5 218.88,-55.5 7.12,-55.5\"/>\n",
       "<text text-anchor=\"middle\" x=\"21.88\" y=\"-68.2\" font-family=\"Times New Roman,serif\" font-size=\"14.00\">x2</text>\n",
       "<polyline fill=\"none\" stroke=\"black\" points=\"36.62,-55.75 36.62,-91.5\"/>\n",
       "<text text-anchor=\"middle\" x=\"76.88\" y=\"-68.2\" font-family=\"Times New Roman,serif\" font-size=\"14.00\">data 0.0000</text>\n",
       "<polyline fill=\"none\" stroke=\"black\" points=\"117.12,-55.75 117.12,-91.5\"/>\n",
       "<text text-anchor=\"middle\" x=\"127\" y=\"-68.2\" font-family=\"Times New Roman,serif\" font-size=\"14.00\"> </text>\n",
       "<polyline fill=\"none\" stroke=\"black\" points=\"136.88,-55.75 136.88,-91.5\"/>\n",
       "<text text-anchor=\"middle\" x=\"177.88\" y=\"-68.2\" font-family=\"Times New Roman,serif\" font-size=\"14.00\">grad 7.0000</text>\n",
       "</g>\n",
       "<!-- 1778779366832&#45;&gt;1778779425088* -->\n",
       "<g id=\"edge14\" class=\"edge\">\n",
       "<title>1778779366832&#45;&gt;1778779425088*</title>\n",
       "<path fill=\"none\" stroke=\"black\" d=\"M218.73,-73.5C230.11,-73.5 241.07,-73.5 250.78,-73.5\"/>\n",
       "<polygon fill=\"black\" stroke=\"black\" points=\"250.56,-77 260.56,-73.5 250.56,-70 250.56,-77\"/>\n",
       "</g>\n",
       "<!-- 1778780560832 -->\n",
       "<g id=\"node13\" class=\"node\">\n",
       "<title>1778780560832</title>\n",
       "<polygon fill=\"none\" stroke=\"black\" points=\"352,-110.5 352,-146.5 591.5,-146.5 591.5,-110.5 352,-110.5\"/>\n",
       "<text text-anchor=\"middle\" x=\"378.38\" y=\"-123.2\" font-family=\"Times New Roman,serif\" font-size=\"14.00\">x1*w1</text>\n",
       "<polyline fill=\"none\" stroke=\"black\" points=\"404.75,-110.75 404.75,-146.5\"/>\n",
       "<text text-anchor=\"middle\" x=\"447.25\" y=\"-123.2\" font-family=\"Times New Roman,serif\" font-size=\"14.00\">data &#45;6.0000</text>\n",
       "<polyline fill=\"none\" stroke=\"black\" points=\"489.75,-110.75 489.75,-146.5\"/>\n",
       "<text text-anchor=\"middle\" x=\"499.62\" y=\"-123.2\" font-family=\"Times New Roman,serif\" font-size=\"14.00\"> </text>\n",
       "<polyline fill=\"none\" stroke=\"black\" points=\"509.5,-110.75 509.5,-146.5\"/>\n",
       "<text text-anchor=\"middle\" x=\"550.5\" y=\"-123.2\" font-family=\"Times New Roman,serif\" font-size=\"14.00\">grad 2.0000</text>\n",
       "</g>\n",
       "<!-- 1778780560832&#45;&gt;1778779425136+ -->\n",
       "<g id=\"edge13\" class=\"edge\">\n",
       "<title>1778780560832&#45;&gt;1778779425136+</title>\n",
       "<path fill=\"none\" stroke=\"black\" d=\"M588.76,-110.53C598.89,-108.96 608.56,-107.46 617.18,-106.13\"/>\n",
       "<polygon fill=\"black\" stroke=\"black\" points=\"617.53,-109.46 626.88,-104.47 616.46,-102.54 617.53,-109.46\"/>\n",
       "</g>\n",
       "<!-- 1778780560832*&#45;&gt;1778780560832 -->\n",
       "<g id=\"edge5\" class=\"edge\">\n",
       "<title>1778780560832*&#45;&gt;1778780560832</title>\n",
       "<path fill=\"none\" stroke=\"black\" d=\"M316.28,-128.5C323.6,-128.5 332.08,-128.5 341.21,-128.5\"/>\n",
       "<polygon fill=\"black\" stroke=\"black\" points=\"341.21,-132 351.21,-128.5 341.21,-125 341.21,-132\"/>\n",
       "</g>\n",
       "<!-- 1778779342832 -->\n",
       "<g id=\"node15\" class=\"node\">\n",
       "<title>1778779342832</title>\n",
       "<polygon fill=\"none\" stroke=\"black\" points=\"5.62,-0.5 5.62,-36.5 220.38,-36.5 220.38,-0.5 5.62,-0.5\"/>\n",
       "<text text-anchor=\"middle\" x=\"21.88\" y=\"-13.2\" font-family=\"Times New Roman,serif\" font-size=\"14.00\">w2</text>\n",
       "<polyline fill=\"none\" stroke=\"black\" points=\"38.12,-0.75 38.12,-36.5\"/>\n",
       "<text text-anchor=\"middle\" x=\"78.38\" y=\"-13.2\" font-family=\"Times New Roman,serif\" font-size=\"14.00\">data 1.0000</text>\n",
       "<polyline fill=\"none\" stroke=\"black\" points=\"118.62,-0.75 118.62,-36.5\"/>\n",
       "<text text-anchor=\"middle\" x=\"128.5\" y=\"-13.2\" font-family=\"Times New Roman,serif\" font-size=\"14.00\"> </text>\n",
       "<polyline fill=\"none\" stroke=\"black\" points=\"138.38,-0.75 138.38,-36.5\"/>\n",
       "<text text-anchor=\"middle\" x=\"179.38\" y=\"-13.2\" font-family=\"Times New Roman,serif\" font-size=\"14.00\">grad 0.0000</text>\n",
       "</g>\n",
       "<!-- 1778779342832&#45;&gt;1778779425088* -->\n",
       "<g id=\"edge12\" class=\"edge\">\n",
       "<title>1778779342832&#45;&gt;1778779425088*</title>\n",
       "<path fill=\"none\" stroke=\"black\" d=\"M192.81,-36.45C204.04,-39.51 215.37,-42.89 226,-46.5 236.12,-49.94 246.89,-54.35 256.56,-58.61\"/>\n",
       "<polygon fill=\"black\" stroke=\"black\" points=\"254.99,-62.19 265.54,-63.11 257.86,-55.81 254.99,-62.19\"/>\n",
       "</g>\n",
       "</g>\n",
       "</svg>\n"
      ],
      "text/plain": [
       "<graphviz.graphs.Digraph at 0x19e277cc820>"
      ]
     },
     "execution_count": 42,
     "metadata": {},
     "output_type": "execute_result"
    }
   ],
   "source": [
    "draw_dot(o)"
   ]
  },
  {
   "cell_type": "code",
   "execution_count": 41,
   "id": "a89723e8",
   "metadata": {},
   "outputs": [
    {
     "name": "stdout",
     "output_type": "stream",
     "text": [
      "-3.0\n",
      "1.0\n"
     ]
    }
   ],
   "source": [
    "o.backward()"
   ]
  },
  {
   "cell_type": "code",
   "execution_count": null,
   "id": "2bd64e4c",
   "metadata": {},
   "outputs": [],
   "source": []
  },
  {
   "cell_type": "code",
   "execution_count": 19,
   "id": "3e66d6b0",
   "metadata": {},
   "outputs": [
    {
     "name": "stdout",
     "output_type": "stream",
     "text": [
      "1.0\n",
      "-3.0\n"
     ]
    }
   ],
   "source": [
    "o.grad=1.0\n",
    "\n",
    "topo = []\n",
    "visited = set()\n",
    "def build_topo(v):\n",
    "    if v not in visited:\n",
    "        visited.add(v)\n",
    "        for child in v._prev:\n",
    "            build_topo(child)\n",
    "        topo.append(v)\n",
    "build_topo(o)\n",
    "\n",
    "for node in reversed(topo):\n",
    "    node._backward()"
   ]
  },
  {
   "cell_type": "code",
   "execution_count": 20,
   "id": "80d72b0f",
   "metadata": {},
   "outputs": [
    {
     "name": "stdout",
     "output_type": "stream",
     "text": [
      "-3.0\n",
      "1.0\n"
     ]
    }
   ],
   "source": [
    "o.grad = 1.0\n",
    "o._backward()\n",
    "n._backward()\n",
    "b._backward()\n",
    "x1w1x2w2._backward()\n",
    "x1w1._backward()\n",
    "x2w2._backward()\n",
    "x2._backward()\n"
   ]
  },
  {
   "cell_type": "code",
   "execution_count": 21,
   "id": "a24eba22",
   "metadata": {},
   "outputs": [],
   "source": [
    "x2.grad = w2.data*x2w2.grad\n",
    "w2.grad = x2.data*x2w2.grad\n",
    "x1.grad = w1.data*x1w1.grad\n",
    "w1.grad = x1.data*x1w1.grad\n",
    "\n",
    "n.grad = 0.5\n",
    "o.grad = 1.0\n",
    "\n",
    "x1w1.grad = 0.5\n",
    "x2w2.grad = 0.5\n",
    "\n",
    "x1w1x2w2.grad = 0.5\n",
    "b.grad = 0.5"
   ]
  },
  {
   "cell_type": "code",
   "execution_count": 22,
   "id": "bf3ee358",
   "metadata": {},
   "outputs": [
    {
     "data": {
      "text/plain": [
       "0.4999999999999999"
      ]
     },
     "execution_count": 22,
     "metadata": {},
     "output_type": "execute_result"
    }
   ],
   "source": [
    "1 - o.data**2"
   ]
  },
  {
   "cell_type": "code",
   "execution_count": 23,
   "id": "15def8fd",
   "metadata": {},
   "outputs": [],
   "source": [
    "# o = tanh(n)\n",
    "# do/dn = 1 - tanh(n)**2 = 1 -  o**2\n"
   ]
  },
  {
   "cell_type": "code",
   "execution_count": 24,
   "id": "7d5d87b0",
   "metadata": {},
   "outputs": [
    {
     "data": {
      "image/svg+xml": [
       "<?xml version=\"1.0\" encoding=\"UTF-8\" standalone=\"no\"?>\n",
       "<!DOCTYPE svg PUBLIC \"-//W3C//DTD SVG 1.1//EN\"\n",
       " \"http://www.w3.org/Graphics/SVG/1.1/DTD/svg11.dtd\">\n",
       "<!-- Generated by graphviz version 8.1.0 (20230707.0739)\n",
       " -->\n",
       "<!-- Pages: 1 -->\n",
       "<svg width=\"544pt\" height=\"45pt\"\n",
       " viewBox=\"0.00 0.00 544.00 45.00\" xmlns=\"http://www.w3.org/2000/svg\" xmlns:xlink=\"http://www.w3.org/1999/xlink\">\n",
       "<g id=\"graph0\" class=\"graph\" transform=\"scale(1 1) rotate(0) translate(4 41)\">\n",
       "<polygon fill=\"white\" stroke=\"none\" points=\"-4,4 -4,-41 540,-41 540,4 -4,4\"/>\n",
       "<!-- 2419543227744 -->\n",
       "<g id=\"node1\" class=\"node\">\n",
       "<title>2419543227744</title>\n",
       "<polygon fill=\"none\" stroke=\"black\" points=\"0,-0.5 0,-36.5 204.25,-36.5 204.25,-0.5 0,-0.5\"/>\n",
       "<text text-anchor=\"middle\" x=\"11\" y=\"-13.2\" font-family=\"Times New Roman,serif\" font-size=\"14.00\">a</text>\n",
       "<polyline fill=\"none\" stroke=\"black\" points=\"22,-0.75 22,-36.5\"/>\n",
       "<text text-anchor=\"middle\" x=\"62.25\" y=\"-13.2\" font-family=\"Times New Roman,serif\" font-size=\"14.00\">data 3.0000</text>\n",
       "<polyline fill=\"none\" stroke=\"black\" points=\"102.5,-0.75 102.5,-36.5\"/>\n",
       "<text text-anchor=\"middle\" x=\"112.38\" y=\"-13.2\" font-family=\"Times New Roman,serif\" font-size=\"14.00\"> </text>\n",
       "<polyline fill=\"none\" stroke=\"black\" points=\"122.25,-0.75 122.25,-36.5\"/>\n",
       "<text text-anchor=\"middle\" x=\"163.25\" y=\"-13.2\" font-family=\"Times New Roman,serif\" font-size=\"14.00\">grad 2.0000</text>\n",
       "</g>\n",
       "<!-- 2419541897712+ -->\n",
       "<g id=\"node3\" class=\"node\">\n",
       "<title>2419541897712+</title>\n",
       "<ellipse fill=\"none\" stroke=\"black\" cx=\"267.25\" cy=\"-18.5\" rx=\"27\" ry=\"18\"/>\n",
       "<text text-anchor=\"middle\" x=\"267.25\" y=\"-13.07\" font-family=\"Times New Roman,serif\" font-size=\"14.00\">+</text>\n",
       "</g>\n",
       "<!-- 2419543227744&#45;&gt;2419541897712+ -->\n",
       "<g id=\"edge2\" class=\"edge\">\n",
       "<title>2419543227744&#45;&gt;2419541897712+</title>\n",
       "<path fill=\"none\" stroke=\"black\" d=\"M204.11,-18.5C212.96,-18.5 221.48,-18.5 229.23,-18.5\"/>\n",
       "<polygon fill=\"black\" stroke=\"black\" points=\"228.98,-22 238.98,-18.5 228.98,-15 228.98,-22\"/>\n",
       "</g>\n",
       "<!-- 2419541897712 -->\n",
       "<g id=\"node2\" class=\"node\">\n",
       "<title>2419541897712</title>\n",
       "<polygon fill=\"none\" stroke=\"black\" points=\"330.25,-0.5 330.25,-36.5 536,-36.5 536,-0.5 330.25,-0.5\"/>\n",
       "<text text-anchor=\"middle\" x=\"342\" y=\"-13.2\" font-family=\"Times New Roman,serif\" font-size=\"14.00\">b</text>\n",
       "<polyline fill=\"none\" stroke=\"black\" points=\"353.75,-0.75 353.75,-36.5\"/>\n",
       "<text text-anchor=\"middle\" x=\"394\" y=\"-13.2\" font-family=\"Times New Roman,serif\" font-size=\"14.00\">data 6.0000</text>\n",
       "<polyline fill=\"none\" stroke=\"black\" points=\"434.25,-0.75 434.25,-36.5\"/>\n",
       "<text text-anchor=\"middle\" x=\"444.12\" y=\"-13.2\" font-family=\"Times New Roman,serif\" font-size=\"14.00\"> </text>\n",
       "<polyline fill=\"none\" stroke=\"black\" points=\"454,-0.75 454,-36.5\"/>\n",
       "<text text-anchor=\"middle\" x=\"495\" y=\"-13.2\" font-family=\"Times New Roman,serif\" font-size=\"14.00\">grad 1.0000</text>\n",
       "</g>\n",
       "<!-- 2419541897712+&#45;&gt;2419541897712 -->\n",
       "<g id=\"edge1\" class=\"edge\">\n",
       "<title>2419541897712+&#45;&gt;2419541897712</title>\n",
       "<path fill=\"none\" stroke=\"black\" d=\"M294.58,-18.5C301.93,-18.5 310.41,-18.5 319.47,-18.5\"/>\n",
       "<polygon fill=\"black\" stroke=\"black\" points=\"319.35,-22 329.35,-18.5 319.35,-15 319.35,-22\"/>\n",
       "</g>\n",
       "</g>\n",
       "</svg>\n"
      ],
      "text/plain": [
       "<graphviz.graphs.Digraph at 0x23357ef71c0>"
      ]
     },
     "execution_count": 24,
     "metadata": {},
     "output_type": "execute_result"
    }
   ],
   "source": [
    "a= Value(3.0, label='a')\n",
    "b =  a+a;  b.label=\"b\"\n",
    "b.backward()\n",
    "draw_dot(b)"
   ]
  },
  {
   "cell_type": "code",
   "execution_count": 25,
   "id": "9370637c",
   "metadata": {},
   "outputs": [],
   "source": [
    "a = Value(-2.0, label='a')\n",
    "b = Value(3.0 ,  label='b')\n",
    "d=  a*b;  d.label='d'\n",
    "e = a+b;  e.label='e'\n",
    "f  =d*e;  f.label='f'"
   ]
  },
  {
   "cell_type": "code",
   "execution_count": 26,
   "id": "97c86d22",
   "metadata": {},
   "outputs": [
    {
     "name": "stdout",
     "output_type": "stream",
     "text": [
      "1.0\n",
      "3.0\n"
     ]
    },
    {
     "data": {
      "image/svg+xml": [
       "<?xml version=\"1.0\" encoding=\"UTF-8\" standalone=\"no\"?>\n",
       "<!DOCTYPE svg PUBLIC \"-//W3C//DTD SVG 1.1//EN\"\n",
       " \"http://www.w3.org/Graphics/SVG/1.1/DTD/svg11.dtd\">\n",
       "<!-- Generated by graphviz version 8.1.0 (20230707.0739)\n",
       " -->\n",
       "<!-- Pages: 1 -->\n",
       "<svg width=\"891pt\" height=\"100pt\"\n",
       " viewBox=\"0.00 0.00 890.75 100.00\" xmlns=\"http://www.w3.org/2000/svg\" xmlns:xlink=\"http://www.w3.org/1999/xlink\">\n",
       "<g id=\"graph0\" class=\"graph\" transform=\"scale(1 1) rotate(0) translate(4 96)\">\n",
       "<polygon fill=\"white\" stroke=\"none\" points=\"-4,4 -4,-96 886.75,-96 886.75,4 -4,4\"/>\n",
       "<!-- 2419542109248 -->\n",
       "<g id=\"node1\" class=\"node\">\n",
       "<title>2419542109248</title>\n",
       "<polygon fill=\"none\" stroke=\"black\" points=\"340,-55.5 340,-91.5 548.75,-91.5 548.75,-55.5 340,-55.5\"/>\n",
       "<text text-anchor=\"middle\" x=\"351\" y=\"-68.2\" font-family=\"Times New Roman,serif\" font-size=\"14.00\">e</text>\n",
       "<polyline fill=\"none\" stroke=\"black\" points=\"362,-55.75 362,-91.5\"/>\n",
       "<text text-anchor=\"middle\" x=\"402.25\" y=\"-68.2\" font-family=\"Times New Roman,serif\" font-size=\"14.00\">data 1.0000</text>\n",
       "<polyline fill=\"none\" stroke=\"black\" points=\"442.5,-55.75 442.5,-91.5\"/>\n",
       "<text text-anchor=\"middle\" x=\"452.38\" y=\"-68.2\" font-family=\"Times New Roman,serif\" font-size=\"14.00\"> </text>\n",
       "<polyline fill=\"none\" stroke=\"black\" points=\"462.25,-55.75 462.25,-91.5\"/>\n",
       "<text text-anchor=\"middle\" x=\"505.5\" y=\"-68.2\" font-family=\"Times New Roman,serif\" font-size=\"14.00\">grad &#45;6.0000</text>\n",
       "</g>\n",
       "<!-- 2419542109008* -->\n",
       "<g id=\"node6\" class=\"node\">\n",
       "<title>2419542109008*</title>\n",
       "<ellipse fill=\"none\" stroke=\"black\" cx=\"612.5\" cy=\"-45.5\" rx=\"27\" ry=\"18\"/>\n",
       "<text text-anchor=\"middle\" x=\"612.5\" y=\"-40.08\" font-family=\"Times New Roman,serif\" font-size=\"14.00\">*</text>\n",
       "</g>\n",
       "<!-- 2419542109248&#45;&gt;2419542109008* -->\n",
       "<g id=\"edge4\" class=\"edge\">\n",
       "<title>2419542109248&#45;&gt;2419542109008*</title>\n",
       "<path fill=\"none\" stroke=\"black\" d=\"M548.7,-56.09C558.02,-54.51 566.99,-53 575.08,-51.64\"/>\n",
       "<polygon fill=\"black\" stroke=\"black\" points=\"575.61,-54.93 584.88,-49.82 574.44,-48.03 575.61,-54.93\"/>\n",
       "</g>\n",
       "<!-- 2419542109248+ -->\n",
       "<g id=\"node2\" class=\"node\">\n",
       "<title>2419542109248+</title>\n",
       "<ellipse fill=\"none\" stroke=\"black\" cx=\"276.25\" cy=\"-73.5\" rx=\"27\" ry=\"18\"/>\n",
       "<text text-anchor=\"middle\" x=\"276.25\" y=\"-68.08\" font-family=\"Times New Roman,serif\" font-size=\"14.00\">+</text>\n",
       "</g>\n",
       "<!-- 2419542109248+&#45;&gt;2419542109248 -->\n",
       "<g id=\"edge1\" class=\"edge\">\n",
       "<title>2419542109248+&#45;&gt;2419542109248</title>\n",
       "<path fill=\"none\" stroke=\"black\" d=\"M303.57,-73.5C311.15,-73.5 319.94,-73.5 329.34,-73.5\"/>\n",
       "<polygon fill=\"black\" stroke=\"black\" points=\"329.19,-77 339.19,-73.5 329.19,-70 329.19,-77\"/>\n",
       "</g>\n",
       "<!-- 2419542109296 -->\n",
       "<g id=\"node3\" class=\"node\">\n",
       "<title>2419542109296</title>\n",
       "<polygon fill=\"none\" stroke=\"black\" points=\"339.25,-0.5 339.25,-36.5 549.5,-36.5 549.5,-0.5 339.25,-0.5\"/>\n",
       "<text text-anchor=\"middle\" x=\"351\" y=\"-13.2\" font-family=\"Times New Roman,serif\" font-size=\"14.00\">d</text>\n",
       "<polyline fill=\"none\" stroke=\"black\" points=\"362.75,-0.75 362.75,-36.5\"/>\n",
       "<text text-anchor=\"middle\" x=\"405.25\" y=\"-13.2\" font-family=\"Times New Roman,serif\" font-size=\"14.00\">data &#45;6.0000</text>\n",
       "<polyline fill=\"none\" stroke=\"black\" points=\"447.75,-0.75 447.75,-36.5\"/>\n",
       "<text text-anchor=\"middle\" x=\"457.62\" y=\"-13.2\" font-family=\"Times New Roman,serif\" font-size=\"14.00\"> </text>\n",
       "<polyline fill=\"none\" stroke=\"black\" points=\"467.5,-0.75 467.5,-36.5\"/>\n",
       "<text text-anchor=\"middle\" x=\"508.5\" y=\"-13.2\" font-family=\"Times New Roman,serif\" font-size=\"14.00\">grad 1.0000</text>\n",
       "</g>\n",
       "<!-- 2419542109296&#45;&gt;2419542109008* -->\n",
       "<g id=\"edge5\" class=\"edge\">\n",
       "<title>2419542109296&#45;&gt;2419542109008*</title>\n",
       "<path fill=\"none\" stroke=\"black\" d=\"M549.17,-35.37C558.35,-36.86 567.17,-38.3 575.15,-39.59\"/>\n",
       "<polygon fill=\"black\" stroke=\"black\" points=\"574.37,-43.17 584.8,-41.32 575.49,-36.26 574.37,-43.17\"/>\n",
       "</g>\n",
       "<!-- 2419542109296* -->\n",
       "<g id=\"node4\" class=\"node\">\n",
       "<title>2419542109296*</title>\n",
       "<ellipse fill=\"none\" stroke=\"black\" cx=\"276.25\" cy=\"-18.5\" rx=\"27\" ry=\"18\"/>\n",
       "<text text-anchor=\"middle\" x=\"276.25\" y=\"-13.07\" font-family=\"Times New Roman,serif\" font-size=\"14.00\">*</text>\n",
       "</g>\n",
       "<!-- 2419542109296*&#45;&gt;2419542109296 -->\n",
       "<g id=\"edge2\" class=\"edge\">\n",
       "<title>2419542109296*&#45;&gt;2419542109296</title>\n",
       "<path fill=\"none\" stroke=\"black\" d=\"M303.57,-18.5C310.94,-18.5 319.44,-18.5 328.55,-18.5\"/>\n",
       "<polygon fill=\"black\" stroke=\"black\" points=\"328.48,-22 338.48,-18.5 328.48,-15 328.48,-22\"/>\n",
       "</g>\n",
       "<!-- 2419542109008 -->\n",
       "<g id=\"node5\" class=\"node\">\n",
       "<title>2419542109008</title>\n",
       "<polygon fill=\"none\" stroke=\"black\" points=\"675.5,-27.5 675.5,-63.5 882.75,-63.5 882.75,-27.5 675.5,-27.5\"/>\n",
       "<text text-anchor=\"middle\" x=\"685.75\" y=\"-40.2\" font-family=\"Times New Roman,serif\" font-size=\"14.00\">f</text>\n",
       "<polyline fill=\"none\" stroke=\"black\" points=\"696,-27.75 696,-63.5\"/>\n",
       "<text text-anchor=\"middle\" x=\"738.5\" y=\"-40.2\" font-family=\"Times New Roman,serif\" font-size=\"14.00\">data &#45;6.0000</text>\n",
       "<polyline fill=\"none\" stroke=\"black\" points=\"781,-27.75 781,-63.5\"/>\n",
       "<text text-anchor=\"middle\" x=\"790.88\" y=\"-40.2\" font-family=\"Times New Roman,serif\" font-size=\"14.00\"> </text>\n",
       "<polyline fill=\"none\" stroke=\"black\" points=\"800.75,-27.75 800.75,-63.5\"/>\n",
       "<text text-anchor=\"middle\" x=\"841.75\" y=\"-40.2\" font-family=\"Times New Roman,serif\" font-size=\"14.00\">grad 1.0000</text>\n",
       "</g>\n",
       "<!-- 2419542109008*&#45;&gt;2419542109008 -->\n",
       "<g id=\"edge3\" class=\"edge\">\n",
       "<title>2419542109008*&#45;&gt;2419542109008</title>\n",
       "<path fill=\"none\" stroke=\"black\" d=\"M639.95,-45.5C647.27,-45.5 655.7,-45.5 664.71,-45.5\"/>\n",
       "<polygon fill=\"black\" stroke=\"black\" points=\"664.53,-49 674.53,-45.5 664.53,-42 664.53,-49\"/>\n",
       "</g>\n",
       "<!-- 2419542035328 -->\n",
       "<g id=\"node7\" class=\"node\">\n",
       "<title>2419542035328</title>\n",
       "<polygon fill=\"none\" stroke=\"black\" points=\"1.5,-55.5 1.5,-91.5 211.75,-91.5 211.75,-55.5 1.5,-55.5\"/>\n",
       "<text text-anchor=\"middle\" x=\"13.25\" y=\"-68.2\" font-family=\"Times New Roman,serif\" font-size=\"14.00\">b</text>\n",
       "<polyline fill=\"none\" stroke=\"black\" points=\"25,-55.75 25,-91.5\"/>\n",
       "<text text-anchor=\"middle\" x=\"65.25\" y=\"-68.2\" font-family=\"Times New Roman,serif\" font-size=\"14.00\">data 3.0000</text>\n",
       "<polyline fill=\"none\" stroke=\"black\" points=\"105.5,-55.75 105.5,-91.5\"/>\n",
       "<text text-anchor=\"middle\" x=\"115.38\" y=\"-68.2\" font-family=\"Times New Roman,serif\" font-size=\"14.00\"> </text>\n",
       "<polyline fill=\"none\" stroke=\"black\" points=\"125.25,-55.75 125.25,-91.5\"/>\n",
       "<text text-anchor=\"middle\" x=\"168.5\" y=\"-68.2\" font-family=\"Times New Roman,serif\" font-size=\"14.00\">grad &#45;8.0000</text>\n",
       "</g>\n",
       "<!-- 2419542035328&#45;&gt;2419542109248+ -->\n",
       "<g id=\"edge7\" class=\"edge\">\n",
       "<title>2419542035328&#45;&gt;2419542109248+</title>\n",
       "<path fill=\"none\" stroke=\"black\" d=\"M211.4,-73.5C220.78,-73.5 229.8,-73.5 237.96,-73.5\"/>\n",
       "<polygon fill=\"black\" stroke=\"black\" points=\"237.88,-77 247.88,-73.5 237.88,-70 237.88,-77\"/>\n",
       "</g>\n",
       "<!-- 2419542035328&#45;&gt;2419542109296* -->\n",
       "<g id=\"edge9\" class=\"edge\">\n",
       "<title>2419542035328&#45;&gt;2419542109296*</title>\n",
       "<path fill=\"none\" stroke=\"black\" d=\"M184.54,-55.51C194.28,-52.75 204.05,-49.73 213.25,-46.5 223.59,-42.87 234.58,-38.2 244.39,-33.71\"/>\n",
       "<polygon fill=\"black\" stroke=\"black\" points=\"245.54,-36.57 253.1,-29.15 242.56,-30.23 245.54,-36.57\"/>\n",
       "</g>\n",
       "<!-- 2419541625296 -->\n",
       "<g id=\"node8\" class=\"node\">\n",
       "<title>2419541625296</title>\n",
       "<polygon fill=\"none\" stroke=\"black\" points=\"0,-0.5 0,-36.5 213.25,-36.5 213.25,-0.5 0,-0.5\"/>\n",
       "<text text-anchor=\"middle\" x=\"11\" y=\"-13.2\" font-family=\"Times New Roman,serif\" font-size=\"14.00\">a</text>\n",
       "<polyline fill=\"none\" stroke=\"black\" points=\"22,-0.75 22,-36.5\"/>\n",
       "<text text-anchor=\"middle\" x=\"64.5\" y=\"-13.2\" font-family=\"Times New Roman,serif\" font-size=\"14.00\">data &#45;2.0000</text>\n",
       "<polyline fill=\"none\" stroke=\"black\" points=\"107,-0.75 107,-36.5\"/>\n",
       "<text text-anchor=\"middle\" x=\"116.88\" y=\"-13.2\" font-family=\"Times New Roman,serif\" font-size=\"14.00\"> </text>\n",
       "<polyline fill=\"none\" stroke=\"black\" points=\"126.75,-0.75 126.75,-36.5\"/>\n",
       "<text text-anchor=\"middle\" x=\"170\" y=\"-13.2\" font-family=\"Times New Roman,serif\" font-size=\"14.00\">grad &#45;3.0000</text>\n",
       "</g>\n",
       "<!-- 2419541625296&#45;&gt;2419542109248+ -->\n",
       "<g id=\"edge8\" class=\"edge\">\n",
       "<title>2419541625296&#45;&gt;2419542109248+</title>\n",
       "<path fill=\"none\" stroke=\"black\" d=\"M181.08,-36.43C191.94,-39.53 202.95,-42.91 213.25,-46.5 223.35,-50.01 234.11,-54.44 243.78,-58.69\"/>\n",
       "<polygon fill=\"black\" stroke=\"black\" points=\"242.21,-62.28 252.76,-63.18 245.08,-55.89 242.21,-62.28\"/>\n",
       "</g>\n",
       "<!-- 2419541625296&#45;&gt;2419542109296* -->\n",
       "<g id=\"edge6\" class=\"edge\">\n",
       "<title>2419541625296&#45;&gt;2419542109296*</title>\n",
       "<path fill=\"none\" stroke=\"black\" d=\"M212.83,-18.5C221.76,-18.5 230.34,-18.5 238.13,-18.5\"/>\n",
       "<polygon fill=\"black\" stroke=\"black\" points=\"237.93,-22 247.93,-18.5 237.93,-15 237.93,-22\"/>\n",
       "</g>\n",
       "</g>\n",
       "</svg>\n"
      ],
      "text/plain": [
       "<graphviz.graphs.Digraph at 0x23357f18ca0>"
      ]
     },
     "execution_count": 26,
     "metadata": {},
     "output_type": "execute_result"
    }
   ],
   "source": [
    "f.backward()\n",
    "draw_dot(f)"
   ]
  },
  {
   "cell_type": "code",
   "execution_count": null,
   "id": "4bd5743f",
   "metadata": {},
   "outputs": [],
   "source": []
  },
  {
   "cell_type": "code",
   "execution_count": null,
   "id": "4b719ba4",
   "metadata": {},
   "outputs": [],
   "source": []
  },
  {
   "cell_type": "code",
   "execution_count": null,
   "id": "53229e63",
   "metadata": {},
   "outputs": [],
   "source": []
  },
  {
   "cell_type": "code",
   "execution_count": null,
   "id": "ea83d7ba",
   "metadata": {},
   "outputs": [],
   "source": []
  },
  {
   "cell_type": "code",
   "execution_count": null,
   "id": "c781d987",
   "metadata": {},
   "outputs": [],
   "source": []
  },
  {
   "cell_type": "code",
   "execution_count": null,
   "id": "8dc1c758",
   "metadata": {},
   "outputs": [],
   "source": []
  },
  {
   "cell_type": "code",
   "execution_count": null,
   "id": "687300ab",
   "metadata": {},
   "outputs": [],
   "source": []
  },
  {
   "cell_type": "code",
   "execution_count": null,
   "id": "4479ca91",
   "metadata": {},
   "outputs": [],
   "source": []
  },
  {
   "cell_type": "code",
   "execution_count": null,
   "id": "742cbc55",
   "metadata": {},
   "outputs": [],
   "source": []
  },
  {
   "cell_type": "code",
   "execution_count": null,
   "id": "e6818787",
   "metadata": {},
   "outputs": [],
   "source": []
  },
  {
   "cell_type": "code",
   "execution_count": null,
   "id": "10528f9e",
   "metadata": {},
   "outputs": [],
   "source": []
  }
 ],
 "metadata": {
  "kernelspec": {
   "display_name": "Python 3 (ipykernel)",
   "language": "python",
   "name": "python3"
  },
  "language_info": {
   "codemirror_mode": {
    "name": "ipython",
    "version": 3
   },
   "file_extension": ".py",
   "mimetype": "text/x-python",
   "name": "python",
   "nbconvert_exporter": "python",
   "pygments_lexer": "ipython3",
   "version": "3.9.13"
  }
 },
 "nbformat": 4,
 "nbformat_minor": 5
}
